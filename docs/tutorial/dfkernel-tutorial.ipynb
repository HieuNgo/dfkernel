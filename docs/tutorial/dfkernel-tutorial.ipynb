{
 "cells": [
  {
   "cell_type": "markdown",
   "metadata": {
    "cell_status": "new"
   },
   "source": [
    "# Dataflow Kernel Tutorial\n",
    "\n",
    "## Controlling Output references\n",
    "### In the Dataflow Kernel there are several different ways to export your variables into the current namespace that you're working in.\n",
    "#### Any unnamed type will simply be given a persistent identifier that matches the persistent cell identifier that the input is given."
   ]
  },
  {
   "cell_type": "code",
   "execution_count": 15269944,
   "metadata": {
    "cell_status": "saved-success-first-load"
   },
   "outputs": [
    {
     "data": {
      "text/plain": [
       "5"
      ]
     },
     "execution_count": 15269944,
     "metadata": {},
     "output_type": "execute_result"
    }
   ],
   "source": [
    "2+3"
   ]
  },
  {
   "cell_type": "markdown",
   "metadata": {
    "cell_status": "new"
   },
   "source": [
    "#### You can also give an output a tag by assigning a name to it, as long as the variable has a name we can just export that into the namespace."
   ]
  },
  {
   "cell_type": "code",
   "execution_count": 11189782,
   "metadata": {
    "cell_status": "saved-success-first-load"
   },
   "outputs": [
    {
     "data": {
      "text/plain": [
       "3"
      ]
     },
     "execution_count": 11189782,
     "metadata": {
      "output_tag": "a"
     },
     "output_type": "execute_result"
    }
   ],
   "source": [
    "a = 3"
   ]
  },
  {
   "cell_type": "markdown",
   "metadata": {
    "cell_status": "new"
   },
   "source": [
    "#### All names are considered persistent throughout the notebook, this means if you try and reassign it in a different cell you'll get an error however, this can be resolved by simply deleting that cell and you'll be able to redefine that name in any other cell."
   ]
  },
  {
   "cell_type": "code",
   "execution_count": 15864942,
   "metadata": {
    "cell_status": "saved-error-first-load"
   },
   "outputs": [
    {
     "ename": "DuplicateNameError",
     "evalue": "name 'a' has already been defined in In[aabe16]",
     "output_type": "error",
     "traceback": [
      "\u001b[0;31m---------------------------------------------------------------------------\u001b[0m",
      "\u001b[0;31mDuplicateNameError\u001b[0m                        Traceback (most recent call last)",
      "\u001b[0;32m~/Desktop/dfkernel/dfkernel/dfkernel/displayhook.py\u001b[0m in \u001b[0;36m__call__\u001b[0;34m(self, result)\u001b[0m\n\u001b[1;32m     57\u001b[0m                 \u001b[0mmd_dict\u001b[0m\u001b[0;34m[\u001b[0m\u001b[0mi\u001b[0m\u001b[0;34m+\u001b[0m\u001b[0;36m1\u001b[0m\u001b[0;34m]\u001b[0m \u001b[0;34m=\u001b[0m \u001b[0mmd_dict_normal\u001b[0m\u001b[0;34m\u001b[0m\u001b[0m\n\u001b[1;32m     58\u001b[0m             \u001b[0;32melif\u001b[0m \u001b[0misinstance\u001b[0m\u001b[0;34m(\u001b[0m\u001b[0mresult\u001b[0m\u001b[0;34m,\u001b[0m \u001b[0mLinkedResult\u001b[0m\u001b[0;34m)\u001b[0m\u001b[0;34m:\u001b[0m\u001b[0;34m\u001b[0m\u001b[0m\n\u001b[0;32m---> 59\u001b[0;31m                 \u001b[0mself\u001b[0m\u001b[0;34m.\u001b[0m\u001b[0mupdate_dataflow_ns\u001b[0m\u001b[0;34m(\u001b[0m\u001b[0mresult\u001b[0m\u001b[0;34m)\u001b[0m\u001b[0;34m\u001b[0m\u001b[0m\n\u001b[0m\u001b[1;32m     60\u001b[0m                 \u001b[0mformat_dict\u001b[0m \u001b[0;34m=\u001b[0m \u001b[0;34m{\u001b[0m\u001b[0;34m}\u001b[0m\u001b[0;34m\u001b[0m\u001b[0m\n\u001b[1;32m     61\u001b[0m                 \u001b[0mmd_dict\u001b[0m \u001b[0;34m=\u001b[0m \u001b[0;34m{\u001b[0m\u001b[0;34m}\u001b[0m\u001b[0;34m\u001b[0m\u001b[0m\n",
      "\u001b[0;32m~/Desktop/dfkernel/dfkernel/dfkernel/displayhook.py\u001b[0m in \u001b[0;36mupdate_dataflow_ns\u001b[0;34m(self, result)\u001b[0m\n\u001b[1;32m    102\u001b[0m         \u001b[0mself\u001b[0m\u001b[0;34m.\u001b[0m\u001b[0mshell\u001b[0m\u001b[0;34m.\u001b[0m\u001b[0muser_ns\u001b[0m\u001b[0;34m.\u001b[0m\u001b[0m_reset_cell\u001b[0m\u001b[0;34m(\u001b[0m\u001b[0mresult\u001b[0m\u001b[0;34m.\u001b[0m\u001b[0m__uuid__\u001b[0m\u001b[0;34m)\u001b[0m\u001b[0;34m\u001b[0m\u001b[0m\n\u001b[1;32m    103\u001b[0m         \u001b[0;32mfor\u001b[0m \u001b[0mres_tag\u001b[0m \u001b[0;32min\u001b[0m \u001b[0mresult\u001b[0m\u001b[0;34m.\u001b[0m\u001b[0mkeys\u001b[0m\u001b[0;34m(\u001b[0m\u001b[0;34m)\u001b[0m\u001b[0;34m:\u001b[0m\u001b[0;34m\u001b[0m\u001b[0m\n\u001b[0;32m--> 104\u001b[0;31m             \u001b[0mself\u001b[0m\u001b[0;34m.\u001b[0m\u001b[0mshell\u001b[0m\u001b[0;34m.\u001b[0m\u001b[0muser_ns\u001b[0m\u001b[0;34m.\u001b[0m\u001b[0m_add_link\u001b[0m\u001b[0;34m(\u001b[0m\u001b[0mres_tag\u001b[0m\u001b[0;34m,\u001b[0m \u001b[0mresult\u001b[0m\u001b[0;34m.\u001b[0m\u001b[0m__uuid__\u001b[0m\u001b[0;34m)\u001b[0m\u001b[0;34m\u001b[0m\u001b[0m\n\u001b[0m\u001b[1;32m    105\u001b[0m \u001b[0;34m\u001b[0m\u001b[0m\n\u001b[1;32m    106\u001b[0m     \u001b[0;32mdef\u001b[0m \u001b[0mfinish_displayhook\u001b[0m\u001b[0;34m(\u001b[0m\u001b[0mself\u001b[0m\u001b[0;34m)\u001b[0m\u001b[0;34m:\u001b[0m\u001b[0;34m\u001b[0m\u001b[0m\n",
      "\u001b[0;32m~/Desktop/dfkernel/dfkernel/dfkernel/dataflow.py\u001b[0m in \u001b[0;36m_add_link\u001b[0;34m(self, name, cell_id)\u001b[0m\n\u001b[1;32m    450\u001b[0m         \u001b[0;32mif\u001b[0m \u001b[0mname\u001b[0m \u001b[0;32min\u001b[0m \u001b[0mself\u001b[0m\u001b[0;34m.\u001b[0m\u001b[0m__links__\u001b[0m\u001b[0;34m:\u001b[0m\u001b[0;34m\u001b[0m\u001b[0m\n\u001b[1;32m    451\u001b[0m             \u001b[0;32mif\u001b[0m \u001b[0mself\u001b[0m\u001b[0;34m.\u001b[0m\u001b[0m__links__\u001b[0m\u001b[0;34m[\u001b[0m\u001b[0mname\u001b[0m\u001b[0;34m]\u001b[0m \u001b[0;34m!=\u001b[0m \u001b[0mcell_id\u001b[0m\u001b[0;34m:\u001b[0m\u001b[0;34m\u001b[0m\u001b[0m\n\u001b[0;32m--> 452\u001b[0;31m                 \u001b[0;32mraise\u001b[0m \u001b[0mDuplicateNameError\u001b[0m\u001b[0;34m(\u001b[0m\u001b[0mname\u001b[0m\u001b[0;34m,\u001b[0m \u001b[0mself\u001b[0m\u001b[0;34m.\u001b[0m\u001b[0m__links__\u001b[0m\u001b[0;34m[\u001b[0m\u001b[0mname\u001b[0m\u001b[0;34m]\u001b[0m\u001b[0;34m)\u001b[0m\u001b[0;34m\u001b[0m\u001b[0m\n\u001b[0m\u001b[1;32m    453\u001b[0m         \u001b[0;32melse\u001b[0m\u001b[0;34m:\u001b[0m\u001b[0;34m\u001b[0m\u001b[0m\n\u001b[1;32m    454\u001b[0m             \u001b[0mself\u001b[0m\u001b[0;34m.\u001b[0m\u001b[0m__links__\u001b[0m\u001b[0;34m[\u001b[0m\u001b[0mname\u001b[0m\u001b[0;34m]\u001b[0m \u001b[0;34m=\u001b[0m \u001b[0mcell_id\u001b[0m\u001b[0;34m\u001b[0m\u001b[0m\n",
      "\u001b[0;31mDuplicateNameError\u001b[0m: name 'a' has already been defined in In[aabe16]"
     ]
    }
   ],
   "source": [
    "a = 4"
   ]
  },
  {
   "cell_type": "markdown",
   "metadata": {
    "cell_status": "new"
   },
   "source": [
    "#### You can also assign multiple variables at once as long as you pass multiple references."
   ]
  },
  {
   "cell_type": "code",
   "execution_count": 13628132,
   "metadata": {
    "cell_status": "saved-success-first-load"
   },
   "outputs": [
    {
     "data": {
      "text/plain": [
       "3"
      ]
     },
     "execution_count": 13628132,
     "metadata": {
      "output_tag": "c"
     },
     "output_type": "execute_result"
    },
    {
     "data": {
      "text/plain": [
       "4"
      ]
     },
     "execution_count": 13628132,
     "metadata": {
      "output_tag": "d"
     },
     "output_type": "execute_result"
    }
   ],
   "source": [
    "c,d = 3,4"
   ]
  },
  {
   "cell_type": "code",
   "execution_count": 12055163,
   "metadata": {
    "cell_status": "saved-success-first-load"
   },
   "outputs": [
    {
     "data": {
      "text/plain": [
       "5"
      ]
     },
     "execution_count": 12055163,
     "metadata": {
      "output_tag": "e"
     },
     "output_type": "execute_result"
    },
    {
     "data": {
      "text/plain": [
       "6"
      ]
     },
     "execution_count": 12055163,
     "metadata": {
      "output_tag": "f"
     },
     "output_type": "execute_result"
    }
   ],
   "source": [
    "e,f = 5,6\n",
    "e,f"
   ]
  },
  {
   "cell_type": "markdown",
   "metadata": {
    "cell_status": "new"
   },
   "source": [
    "#### In the case of mixed named and unnamed variables the named variables will be pulled out by their variable names and any unnamed variables will be given the ability to be referenced through bracket notation."
   ]
  },
  {
   "cell_type": "code",
   "execution_count": 11182193,
   "metadata": {
    "cell_status": "saved-success-first-load"
   },
   "outputs": [
    {
     "data": {
      "text/plain": [
       "5"
      ]
     },
     "execution_count": 11182193,
     "metadata": {
      "output_tag": "g"
     },
     "output_type": "execute_result"
    },
    {
     "data": {
      "text/plain": [
       "6"
      ]
     },
     "execution_count": 11182193,
     "metadata": {
      "output_tag": "h"
     },
     "output_type": "execute_result"
    },
    {
     "data": {
      "text/plain": [
       "[2, 3]"
      ]
     },
     "execution_count": 11182193,
     "metadata": {
      "output_tag": "aaa0712"
     },
     "output_type": "execute_result"
    }
   ],
   "source": [
    "g,h = 5,6\n",
    "g,h,[2,3]"
   ]
  },
  {
   "cell_type": "markdown",
   "metadata": {
    "cell_status": "new"
   },
   "source": [
    "## Output Magics\n",
    "### Since a user might want to split out a dictionary into multiple variables we've provided methods for that.\n",
    "#### NOTE: In versions of Python below 3.6 tags are not guaranteed to be in order as dict keys have no guaranteed ordering and if you desire your keys to be in order we suggest the user of `OrderedDict`."
   ]
  },
  {
   "cell_type": "code",
   "execution_count": 16773755,
   "metadata": {
    "cell_status": "saved-success-first-load"
   },
   "outputs": [
    {
     "data": {
      "text/plain": [
       "1"
      ]
     },
     "execution_count": 16773755,
     "metadata": {
      "output_tag": "j"
     },
     "output_type": "execute_result"
    },
    {
     "data": {
      "text/plain": [
       "1"
      ]
     },
     "execution_count": 16773755,
     "metadata": {
      "output_tag": "k"
     },
     "output_type": "execute_result"
    }
   ],
   "source": [
    "%split_out {'j':1,'k':1}"
   ]
  },
  {
   "cell_type": "markdown",
   "metadata": {
    "cell_status": "new"
   },
   "source": [
    "## Accessing Outputs"
   ]
  },
  {
   "cell_type": "code",
   "execution_count": 12842872,
   "metadata": {
    "cell_status": "new"
   },
   "outputs": [],
   "source": []
  },
  {
   "cell_type": "code",
   "execution_count": 13651322,
   "metadata": {
    "cell_status": "new"
   },
   "outputs": [],
   "source": []
  },
  {
   "cell_type": "code",
   "execution_count": 15912071,
   "metadata": {
    "cell_status": "new"
   },
   "outputs": [],
   "source": []
  },
  {
   "cell_type": "code",
   "execution_count": 15967068,
   "metadata": {
    "cell_status": "new"
   },
   "outputs": [],
   "source": []
  },
  {
   "cell_type": "markdown",
   "metadata": {
    "cell_status": "new"
   },
   "source": []
  }
 ],
 "metadata": {
  "hl_list": [],
  "kernelspec": {
   "display_name": "DFPython 3",
   "language": "python",
   "name": "dfpython3"
  }
 },
 "nbformat": 4,
 "nbformat_minor": 2
}
